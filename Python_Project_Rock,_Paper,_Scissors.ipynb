{
  "nbformat": 4,
  "nbformat_minor": 0,
  "metadata": {
    "colab": {
      "name": "Python Project: Rock, Paper, Scissors.ipynb",
      "provenance": [],
      "authorship_tag": "ABX9TyPj5bylYZ3ofyjOqGmBOaho",
      "include_colab_link": true
    },
    "kernelspec": {
      "name": "python3",
      "display_name": "Python 3"
    }
  },
  "cells": [
    {
      "cell_type": "markdown",
      "metadata": {
        "id": "view-in-github",
        "colab_type": "text"
      },
      "source": [
        "<a href=\"https://colab.research.google.com/github/namishasingh/Unit_2_Python/blob/main/Python_Project_Rock%2C_Paper%2C_Scissors.ipynb\" target=\"_parent\"><img src=\"https://colab.research.google.com/assets/colab-badge.svg\" alt=\"Open In Colab\"/></a>"
      ]
    },
    {
      "cell_type": "code",
      "metadata": {
        "colab": {
          "base_uri": "https://localhost:8080/"
        },
        "id": "ywDk1tww4lxx",
        "outputId": "f1bd624d-b94b-4abc-aada-3f46f51ca1d5"
      },
      "source": [
        "#Make a two-player Rock-Paper-Scissors game. (Hint: Ask for player plays (using input), compare them, print out a message of congratulations to the winner, and ask if the players want to start a new game)\n",
        "#Remember the rules:\n",
        "#Rock beats scissors\n",
        "#Scissors beats paper\n",
        "#Paper beats rock\n",
        "\n",
        "Player_1=input('Enter Player 1 Name: ')\n",
        "Player_2=input('Enter Player 2 Name: ')\n",
        "\n",
        "while True:\n",
        "  try:\n",
        "    Player_1_answer=int(input(\"{}, please enter your choice:\\n1.Rock\\n2.Scissors\\n3.Paper\\n\".format(Player_1)))\n",
        "    Player_2_answer=int(input(\"{}, please enter your choice:\\n1.Rock\\n2.Scissors\\n3.Paper\\n\".format(Player_2)))\n",
        "    if Player_1_answer not in range(1,4) or Player_2_answer not in range(1,4):\n",
        "      print(\"Input Not in Range\")\n",
        "      continue\n",
        "  except:\n",
        "    print(\"Input error.\")\n",
        "    continue\n",
        "  \n",
        "  if Player_1_answer + 1 == Player_2_answer or Player_1_answer - 2 == Player_2_answer:\n",
        "    print(\"{}, you win!\".format(Player_1))\n",
        "  elif Player_1_answer == Player_2_answer:\n",
        "    print(\"It's a tie.\")\n",
        "  else:\n",
        "    print(\"{}, you win!\".format(Player_2))\n",
        "\n",
        "  try:\n",
        "    if int(input(\"Enter number 1 to start a new game, or any to exit.\"))==0:\n",
        "      break\n",
        "  except:\n",
        "    print(\"Input error. Exit the game.\")\n",
        "    break\n",
        "\n"
      ],
      "execution_count": null,
      "outputs": [
        {
          "output_type": "stream",
          "text": [
            "Enter Player 1 Name: Namisha\n",
            "Enter Player 2 Name: Nasita\n",
            "Namisha, please enter your choice:\n",
            "1.Rock\n",
            "2.Scissors\n",
            "3.Paper\n",
            "1\n",
            "Nasita, please enter your choice:\n",
            "1.Rock\n",
            "2.Scissors\n",
            "3.Paper\n",
            "2\n",
            "Namisha, you win!\n"
          ],
          "name": "stdout"
        }
      ]
    }
  ]
}