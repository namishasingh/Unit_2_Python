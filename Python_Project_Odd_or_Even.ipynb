{
  "nbformat": 4,
  "nbformat_minor": 0,
  "metadata": {
    "colab": {
      "name": "Python Project- Odd or Even.ipynb",
      "provenance": [],
      "authorship_tag": "ABX9TyMwPankcV/I/uRS0itXXsjU",
      "include_colab_link": true
    },
    "kernelspec": {
      "name": "python3",
      "display_name": "Python 3"
    }
  },
  "cells": [
    {
      "cell_type": "markdown",
      "metadata": {
        "id": "view-in-github",
        "colab_type": "text"
      },
      "source": [
        "<a href=\"https://colab.research.google.com/github/namishasingh/Unit_2_Python/blob/main/Python_Project_Odd_or_Even.ipynb\" target=\"_parent\"><img src=\"https://colab.research.google.com/assets/colab-badge.svg\" alt=\"Open In Colab\"/></a>"
      ]
    },
    {
      "cell_type": "code",
      "metadata": {
        "id": "bzlmfPl2m7Z6"
      },
      "source": [
        "num=int(input(\"Enter a number to check \"))\n",
        "check=int(input(\"Enter a number to divide by \"))\n",
        "\n",
        "if num % 4== 0:\n",
        "  print(num,\"is a multiple of 4\")\n",
        "elif num % 2 == 0:\n",
        "  print(num, \"is a multiple of 2\")\n",
        "else:\n",
        "  print(num, \"is an odd number\")\n",
        "\n",
        "if num % check == 0:\n",
        "  print(num, \"divides evenly by\",check)\n",
        "else:\n",
        "  print(num, \"does not divide evenly by\",check)"
      ],
      "execution_count": null,
      "outputs": []
    }
  ]
}
